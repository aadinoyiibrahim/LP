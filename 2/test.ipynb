{
 "cells": [
  {
   "cell_type": "markdown",
   "id": "66804d11",
   "metadata": {},
   "source": [
    "this code is part of the tutorial on -- Capacitated Facility-Location MIP with Open-Source Solvers--\n",
    "\n",
    "author: Abdullahi Ibrahim\n",
    "date: May 25, 2025\n",
    "\n",
    "Note: python env and machine may vary with the running time."
   ]
  },
  {
   "cell_type": "code",
   "execution_count": null,
   "id": "737d72b0",
   "metadata": {},
   "outputs": [],
   "source": [
    "from data import load_data\n",
    "W, C, fixed, cap, dem, cost = load_data()\n",
    "print(\"Warehouses:\", W)\n",
    "print(\"Customers:\", C)"
   ]
  },
  {
   "cell_type": "code",
   "execution_count": null,
   "id": "b444c537",
   "metadata": {},
   "outputs": [],
   "source": [
    "from facility import FacilityLocationModel\n",
    "fl = FacilityLocationModel()               \n",
    "res = fl.solve('cbc', time_limit=30, mip_gap=0.01)\n",
    "print(\"Objective:\", fl.model.Obj())\n",
    "print(\"Solution:\", fl.get_solution())\n"
   ]
  }
 ],
 "metadata": {
  "kernelspec": {
   "display_name": "base",
   "language": "python",
   "name": "python3"
  },
  "language_info": {
   "codemirror_mode": {
    "name": "ipython",
    "version": 3
   },
   "file_extension": ".py",
   "mimetype": "text/x-python",
   "name": "python",
   "nbconvert_exporter": "python",
   "pygments_lexer": "ipython3",
   "version": "3.8.12"
  }
 },
 "nbformat": 4,
 "nbformat_minor": 5
}
