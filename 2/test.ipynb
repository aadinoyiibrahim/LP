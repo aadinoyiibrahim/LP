{
 "cells": [
  {
   "cell_type": "code",
   "execution_count": null,
   "id": "8ee31151",
   "metadata": {},
   "outputs": [],
   "source": []
  },
  {
   "cell_type": "code",
   "execution_count": null,
   "id": "69fa53c9",
   "metadata": {},
   "outputs": [
    {
     "name": "stdout",
     "output_type": "stream",
     "text": [
      "Collecting package metadata (current_repodata.json): \\ WARNING conda.models.version:get_matcher(546): Using .* with relational operator is superfluous and deprecated and will be removed in a future version of conda. Your spec was 1.7.1.*, but conda is ignoring the .* and treating it as 1.7.1\n",
      "done\n",
      "Solving environment: / "
     ]
    }
   ],
   "source": [
    "# !pip install pyomo pandas matplotlib\n",
    "# if using SCIP:\n",
    "# !conda install -c conda-forge pyscipopt -y\n",
    "\n",
    "# !python3 -m pip install pyomo pandas matplotlib\n",
    "# !conda install -c conda-forge coincbc scip\n",
    "# !conda install -c conda-forge coincbc\n",
    "\n",
    "!conda install -n base -c conda-forge mamba\n"
   ]
  },
  {
   "cell_type": "code",
   "execution_count": null,
   "id": "737d72b0",
   "metadata": {},
   "outputs": [],
   "source": [
    "from data import load_data\n",
    "W, C, fixed, cap, dem, cost = load_data()\n",
    "print(\"Warehouses:\", W)\n",
    "print(\"Customers:\", C)"
   ]
  },
  {
   "cell_type": "code",
   "execution_count": null,
   "id": "b444c537",
   "metadata": {},
   "outputs": [],
   "source": [
    "from facility import FacilityLocationModel\n",
    "fl = FacilityLocationModel()               # uses defaults './data/*.csv'\n",
    "res = fl.solve('cbc', time_limit=30, mip_gap=0.01)\n",
    "print(\"Objective:\", fl.model.Obj())\n",
    "print(\"Solution:\", fl.get_solution())\n"
   ]
  },
  {
   "cell_type": "code",
   "execution_count": null,
   "id": "6cf90502",
   "metadata": {},
   "outputs": [],
   "source": [
    "from metrics import benchmark_solvers\n",
    "import pandas as pd\n",
    "import matplotlib.pyplot as plt\n",
    "\n",
    "df = benchmark_solvers(['glpk','cbc','scip'])\n",
    "display(df)                            # Jupyter’s nicer DataFrame view\n",
    "df.plot.bar(x='solver', y='time_s')\n",
    "plt.ylabel('Solve Time (s)')\n",
    "plt.show()\n"
   ]
  }
 ],
 "metadata": {
  "kernelspec": {
   "display_name": "Python 3",
   "language": "python",
   "name": "python3"
  },
  "language_info": {
   "codemirror_mode": {
    "name": "ipython",
    "version": 3
   },
   "file_extension": ".py",
   "mimetype": "text/x-python",
   "name": "python",
   "nbconvert_exporter": "python",
   "pygments_lexer": "ipython3",
   "version": "3.12.0"
  }
 },
 "nbformat": 4,
 "nbformat_minor": 5
}
